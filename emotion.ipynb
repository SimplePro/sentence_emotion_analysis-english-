{
 "cells": [
  {
   "cell_type": "code",
   "execution_count": 12,
   "metadata": {},
   "outputs": [],
   "source": [
    "import joblib\n",
    "from sklearn.feature_extraction.text import TfidfVectorizer\n",
    "from konlpy.tag import Okt\n",
    "from sklearn.model_selection import train_test_split\n",
    "import pandas as pd"
   ]
  },
  {
   "cell_type": "code",
   "execution_count": 6,
   "metadata": {},
   "outputs": [],
   "source": [
    "def num_to_emotion(x):\n",
    "    if x == 0: return \"anger\"\n",
    "    elif x == 1: return \"fear\"\n",
    "    elif x == 2: return \"joy\"\n",
    "    elif x == 3: return \"love\"\n",
    "    elif x == 4: return \"sadness\"\n",
    "    elif x == 5: return \"surprise\""
   ]
  },
  {
   "cell_type": "code",
   "execution_count": 13,
   "metadata": {},
   "outputs": [
    {
     "name": "stderr",
     "output_type": "stream",
     "text": [
      "c:\\users\\user\\appdata\\local\\programs\\python\\python38\\lib\\site-packages\\sklearn\\feature_extraction\\text.py:484: UserWarning: The parameter 'token_pattern' will not be used since 'tokenizer' is not None'\n",
      "  warnings.warn(\"The parameter 'token_pattern' will not be used\"\n"
     ]
    }
   ],
   "source": [
    "okt = Okt()\n",
    "tfv = TfidfVectorizer(tokenizer = okt.morphs, ngram_range=(1, 2), min_df=3, max_df=0.9)\n",
    "loaded_model = joblib.load(\"./sentence_emotion_analysis_model.pkl\")\n",
    "\n",
    "data = pd.read_csv(\"./datasets/data.csv\", index_col=0)\n",
    "data.head()\n",
    "\n",
    "features = data[\"sentence\"]\n",
    "label = data[\"emotion\"]\n",
    "\n",
    "train_x, test_x, train_y, test_y = train_test_split(features, label, test_size=0.2, random_state=0)\n",
    "\n",
    "tfv.fit(train_x)\n",
    "\n",
    "def emo(s):\n",
    "    sentence = tfv.transform([s])\n",
    "    emotion = num_to_emotion(loaded_model.predict(sentence)[0])\n",
    "    return emotion"
   ]
  }
 ],
 "metadata": {
  "kernelspec": {
   "display_name": "Python 3",
   "language": "python",
   "name": "python3"
  },
  "language_info": {
   "codemirror_mode": {
    "name": "ipython",
    "version": 3
   },
   "file_extension": ".py",
   "mimetype": "text/x-python",
   "name": "python",
   "nbconvert_exporter": "python",
   "pygments_lexer": "ipython3",
   "version": "3.8.1"
  }
 },
 "nbformat": 4,
 "nbformat_minor": 4
}
